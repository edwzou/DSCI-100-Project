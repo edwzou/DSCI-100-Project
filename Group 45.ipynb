{
 "cells": [
  {
   "cell_type": "markdown",
   "id": "eeb251a0-e61d-40ed-a7ac-810f47e33fef",
   "metadata": {},
   "source": [
    "# Can Data Find Heart Disease Better Than Doctors?\n",
    "\n",
    "By: Edward Zou, Hui Lin Shan, Reimi Shishido, and Emma Lo (Group 45)"
   ]
  },
  {
   "cell_type": "markdown",
   "id": "f3ce71d1-60b9-422a-904d-3ffd79bb2cbf",
   "metadata": {},
   "source": [
    "## Introduction:\n",
    "\n",
    "*Provide some relevant background information on the topic so that someone unfamiliar with it will be prepared to understand the rest of your proposal*\n",
    "\n",
    "- Heart disease is the second leading cause of death in Canada. Diagnosing heart disease is a rigorous and time consuming process, and misdiagnoses is still a relevant concern with around 16%-68% misdiagnosis depending on setting. Therefore, finding an easier and more reliable way of diagnosis will be very beneficial to patients as well as doctors. Our group’s chosen data set tries to tackle the problem of identifying an individual who has heart disease by comparing their attributes to patients already diagnosed with heart disease. \n",
    "\n",
    "\n",
    "*Clearly state the question you will try to answer with your project*\n",
    "\n",
    "- Can we use a heart disease dataset to create a model that can reliably and correctly predict whether a new patient has heart disease more than 84% of the time? \n",
    "\n",
    "\n",
    "*Identify and describe the dataset that will be used to answer the question*\n",
    "\n",
    "- We will be using the heart disease dataset provided on Canvas (processed Cleveland version). This dataset consists of 14 attributes that aid in predicting whether or not an individual has heart disease. There were four datasets from four different institutions (Cleveland, Hungary, Switzerland, VA Long Beach) provided, but we chose to use the Cleveland data because the website has stated that the Cleveland data set was the only data set that has been used by ML researchers.\n"
   ]
  },
  {
   "cell_type": "markdown",
   "id": "66ad4818-802f-426d-b5f4-eae148b992d4",
   "metadata": {},
   "source": [
    "## Preliminary exploratory data analysis:\n",
    "*Demonstrate that the dataset can be read from the web into R*\n",
    "\n",
    "- The current dataset is in a .data file. We can either use read.table to read the file or convert the dataset to .csv file and use read_csv\n",
    "\n",
    "*Clean and wrangle your data into a tidy format*\n",
    "\n",
    "- Break it down into different sexes\n",
    "\n",
    "*Using only training data, summarize the data in at least one table (this is exploratory data analysis). An example of a useful table could be one that reports the number of observations in each class, the means of the predictor variables you plan to use in your analysis and how many rows have missing data*\n",
    "\n",
    "*Using only training data, visualize the data with at least one plot relevant to the analysis you plan to do (this is exploratory data analysis). An example of a useful visualization could be one that compares the distributions of each of the predictor variables you plan to use in your analysis*\n"
   ]
  },
  {
   "cell_type": "code",
   "execution_count": 1,
   "id": "1ae538a7-7a47-43df-a5cd-3b8f50404254",
   "metadata": {},
   "outputs": [
    {
     "name": "stderr",
     "output_type": "stream",
     "text": [
      "── \u001b[1mAttaching packages\u001b[22m ─────────────────────────────────────── tidyverse 1.3.1 ──\n",
      "\n",
      "\u001b[32m✔\u001b[39m \u001b[34mggplot2\u001b[39m 3.3.6     \u001b[32m✔\u001b[39m \u001b[34mpurrr  \u001b[39m 0.3.4\n",
      "\u001b[32m✔\u001b[39m \u001b[34mtibble \u001b[39m 3.1.7     \u001b[32m✔\u001b[39m \u001b[34mdplyr  \u001b[39m 1.0.9\n",
      "\u001b[32m✔\u001b[39m \u001b[34mtidyr  \u001b[39m 1.2.0     \u001b[32m✔\u001b[39m \u001b[34mstringr\u001b[39m 1.4.0\n",
      "\u001b[32m✔\u001b[39m \u001b[34mreadr  \u001b[39m 2.1.2     \u001b[32m✔\u001b[39m \u001b[34mforcats\u001b[39m 0.5.1\n",
      "\n",
      "── \u001b[1mConflicts\u001b[22m ────────────────────────────────────────── tidyverse_conflicts() ──\n",
      "\u001b[31m✖\u001b[39m \u001b[34mdplyr\u001b[39m::\u001b[32mfilter()\u001b[39m masks \u001b[34mstats\u001b[39m::filter()\n",
      "\u001b[31m✖\u001b[39m \u001b[34mdplyr\u001b[39m::\u001b[32mlag()\u001b[39m    masks \u001b[34mstats\u001b[39m::lag()\n",
      "\n",
      "\n",
      "Attaching package: ‘testthat’\n",
      "\n",
      "\n",
      "The following object is masked from ‘package:dplyr’:\n",
      "\n",
      "    matches\n",
      "\n",
      "\n",
      "The following object is masked from ‘package:purrr’:\n",
      "\n",
      "    is_null\n",
      "\n",
      "\n",
      "The following objects are masked from ‘package:readr’:\n",
      "\n",
      "    edition_get, local_edition\n",
      "\n",
      "\n",
      "The following object is masked from ‘package:tidyr’:\n",
      "\n",
      "    matches\n",
      "\n",
      "\n",
      "── \u001b[1mAttaching packages\u001b[22m ────────────────────────────────────── tidymodels 1.0.0 ──\n",
      "\n",
      "\u001b[32m✔\u001b[39m \u001b[34mbroom       \u001b[39m 1.0.0     \u001b[32m✔\u001b[39m \u001b[34mrsample     \u001b[39m 1.0.0\n",
      "\u001b[32m✔\u001b[39m \u001b[34mdials       \u001b[39m 1.0.0     \u001b[32m✔\u001b[39m \u001b[34mtune        \u001b[39m 1.0.0\n",
      "\u001b[32m✔\u001b[39m \u001b[34minfer       \u001b[39m 1.0.2     \u001b[32m✔\u001b[39m \u001b[34mworkflows   \u001b[39m 1.0.0\n",
      "\u001b[32m✔\u001b[39m \u001b[34mmodeldata   \u001b[39m 1.0.0     \u001b[32m✔\u001b[39m \u001b[34mworkflowsets\u001b[39m 1.0.0\n",
      "\u001b[32m✔\u001b[39m \u001b[34mparsnip     \u001b[39m 1.0.0     \u001b[32m✔\u001b[39m \u001b[34myardstick   \u001b[39m 1.0.0\n",
      "\u001b[32m✔\u001b[39m \u001b[34mrecipes     \u001b[39m 1.0.1     \n",
      "\n",
      "── \u001b[1mConflicts\u001b[22m ───────────────────────────────────────── tidymodels_conflicts() ──\n",
      "\u001b[31m✖\u001b[39m \u001b[34mscales\u001b[39m::\u001b[32mdiscard()\u001b[39m   masks \u001b[34mpurrr\u001b[39m::discard()\n",
      "\u001b[31m✖\u001b[39m \u001b[34mdplyr\u001b[39m::\u001b[32mfilter()\u001b[39m     masks \u001b[34mstats\u001b[39m::filter()\n",
      "\u001b[31m✖\u001b[39m \u001b[34mrecipes\u001b[39m::\u001b[32mfixed()\u001b[39m    masks \u001b[34mstringr\u001b[39m::fixed()\n",
      "\u001b[31m✖\u001b[39m \u001b[34mtestthat\u001b[39m::\u001b[32mis_null()\u001b[39m masks \u001b[34mpurrr\u001b[39m::is_null()\n",
      "\u001b[31m✖\u001b[39m \u001b[34mdplyr\u001b[39m::\u001b[32mlag()\u001b[39m        masks \u001b[34mstats\u001b[39m::lag()\n",
      "\u001b[31m✖\u001b[39m \u001b[34mrsample\u001b[39m::\u001b[32mmatches()\u001b[39m  masks \u001b[34mtestthat\u001b[39m::matches(), \u001b[34mdplyr\u001b[39m::matches(), \u001b[34mtidyr\u001b[39m::matches()\n",
      "\u001b[31m✖\u001b[39m \u001b[34myardstick\u001b[39m::\u001b[32mspec()\u001b[39m   masks \u001b[34mreadr\u001b[39m::spec()\n",
      "\u001b[31m✖\u001b[39m \u001b[34mrecipes\u001b[39m::\u001b[32mstep()\u001b[39m     masks \u001b[34mstats\u001b[39m::step()\n",
      "\u001b[34m•\u001b[39m Learn how to get started at \u001b[32mhttps://www.tidymodels.org/start/\u001b[39m\n",
      "\n"
     ]
    }
   ],
   "source": [
    "library(tidyverse)\n",
    "library(testthat)\n",
    "library(digest)\n",
    "library(repr)\n",
    "library(tidymodels)\n",
    "options(repr.matrix.max.rows = 6)"
   ]
  },
  {
   "cell_type": "code",
   "execution_count": 2,
   "id": "fc4bb55a-2a9e-4ee1-bccb-aa53c0cb61ca",
   "metadata": {},
   "outputs": [
    {
     "name": "stderr",
     "output_type": "stream",
     "text": [
      "\u001b[1mRows: \u001b[22m\u001b[34m303\u001b[39m \u001b[1mColumns: \u001b[22m\u001b[34m14\u001b[39m\n",
      "\u001b[36m──\u001b[39m \u001b[1mColumn specification\u001b[22m \u001b[36m────────────────────────────────────────────────────────\u001b[39m\n",
      "\u001b[1mDelimiter:\u001b[22m \",\"\n",
      "\u001b[31mchr\u001b[39m  (2): X12, X13\n",
      "\u001b[32mdbl\u001b[39m (12): X1, X2, X3, X4, X5, X6, X7, X8, X9, X10, X11, X14\n",
      "\n",
      "\u001b[36mℹ\u001b[39m Use `spec()` to retrieve the full column specification for this data.\n",
      "\u001b[36mℹ\u001b[39m Specify the column types or set `show_col_types = FALSE` to quiet this message.\n"
     ]
    },
    {
     "data": {
      "text/html": [
       "<table class=\"dataframe\">\n",
       "<caption>A tibble: 303 × 11</caption>\n",
       "<thead>\n",
       "\t<tr><th scope=col>Age</th><th scope=col>Chest pain</th><th scope=col>Resting blood pressure</th><th scope=col>Cholesterol</th><th scope=col>Fast blood sugar</th><th scope=col>Resting electrocardiographic results</th><th scope=col>Maximum heart rate achieved</th><th scope=col>Exercise induced angina</th><th scope=col>ST depression induced by exercise relative to rest</th><th scope=col>The slope of the peak exercise ST segment</th><th scope=col>Diagnosis of heart disease (angiographic disease status)</th></tr>\n",
       "\t<tr><th scope=col>&lt;dbl&gt;</th><th scope=col>&lt;dbl&gt;</th><th scope=col>&lt;dbl&gt;</th><th scope=col>&lt;dbl&gt;</th><th scope=col>&lt;dbl&gt;</th><th scope=col>&lt;dbl&gt;</th><th scope=col>&lt;dbl&gt;</th><th scope=col>&lt;dbl&gt;</th><th scope=col>&lt;dbl&gt;</th><th scope=col>&lt;dbl&gt;</th><th scope=col>&lt;dbl&gt;</th></tr>\n",
       "</thead>\n",
       "<tbody>\n",
       "\t<tr><td>63</td><td>1</td><td>145</td><td>233</td><td>1</td><td>2</td><td>150</td><td>0</td><td>2.3</td><td>3</td><td>0</td></tr>\n",
       "\t<tr><td>67</td><td>4</td><td>160</td><td>286</td><td>0</td><td>2</td><td>108</td><td>1</td><td>1.5</td><td>2</td><td>2</td></tr>\n",
       "\t<tr><td>67</td><td>4</td><td>120</td><td>229</td><td>0</td><td>2</td><td>129</td><td>1</td><td>2.6</td><td>2</td><td>1</td></tr>\n",
       "\t<tr><td>⋮</td><td>⋮</td><td>⋮</td><td>⋮</td><td>⋮</td><td>⋮</td><td>⋮</td><td>⋮</td><td>⋮</td><td>⋮</td><td>⋮</td></tr>\n",
       "\t<tr><td>57</td><td>4</td><td>130</td><td>131</td><td>0</td><td>0</td><td>115</td><td>1</td><td>1.2</td><td>2</td><td>3</td></tr>\n",
       "\t<tr><td>57</td><td>2</td><td>130</td><td>236</td><td>0</td><td>2</td><td>174</td><td>0</td><td>0.0</td><td>2</td><td>1</td></tr>\n",
       "\t<tr><td>38</td><td>3</td><td>138</td><td>175</td><td>0</td><td>0</td><td>173</td><td>0</td><td>0.0</td><td>1</td><td>0</td></tr>\n",
       "</tbody>\n",
       "</table>\n"
      ],
      "text/latex": [
       "A tibble: 303 × 11\n",
       "\\begin{tabular}{lllllllllll}\n",
       " Age & Chest pain & Resting blood pressure & Cholesterol & Fast blood sugar & Resting electrocardiographic results & Maximum heart rate achieved & Exercise induced angina & ST depression induced by exercise relative to rest & The slope of the peak exercise ST segment & Diagnosis of heart disease (angiographic disease status)\\\\\n",
       " <dbl> & <dbl> & <dbl> & <dbl> & <dbl> & <dbl> & <dbl> & <dbl> & <dbl> & <dbl> & <dbl>\\\\\n",
       "\\hline\n",
       "\t 63 & 1 & 145 & 233 & 1 & 2 & 150 & 0 & 2.3 & 3 & 0\\\\\n",
       "\t 67 & 4 & 160 & 286 & 0 & 2 & 108 & 1 & 1.5 & 2 & 2\\\\\n",
       "\t 67 & 4 & 120 & 229 & 0 & 2 & 129 & 1 & 2.6 & 2 & 1\\\\\n",
       "\t ⋮ & ⋮ & ⋮ & ⋮ & ⋮ & ⋮ & ⋮ & ⋮ & ⋮ & ⋮ & ⋮\\\\\n",
       "\t 57 & 4 & 130 & 131 & 0 & 0 & 115 & 1 & 1.2 & 2 & 3\\\\\n",
       "\t 57 & 2 & 130 & 236 & 0 & 2 & 174 & 0 & 0.0 & 2 & 1\\\\\n",
       "\t 38 & 3 & 138 & 175 & 0 & 0 & 173 & 0 & 0.0 & 1 & 0\\\\\n",
       "\\end{tabular}\n"
      ],
      "text/markdown": [
       "\n",
       "A tibble: 303 × 11\n",
       "\n",
       "| Age &lt;dbl&gt; | Chest pain &lt;dbl&gt; | Resting blood pressure &lt;dbl&gt; | Cholesterol &lt;dbl&gt; | Fast blood sugar &lt;dbl&gt; | Resting electrocardiographic results &lt;dbl&gt; | Maximum heart rate achieved &lt;dbl&gt; | Exercise induced angina &lt;dbl&gt; | ST depression induced by exercise relative to rest &lt;dbl&gt; | The slope of the peak exercise ST segment &lt;dbl&gt; | Diagnosis of heart disease (angiographic disease status) &lt;dbl&gt; |\n",
       "|---|---|---|---|---|---|---|---|---|---|---|\n",
       "| 63 | 1 | 145 | 233 | 1 | 2 | 150 | 0 | 2.3 | 3 | 0 |\n",
       "| 67 | 4 | 160 | 286 | 0 | 2 | 108 | 1 | 1.5 | 2 | 2 |\n",
       "| 67 | 4 | 120 | 229 | 0 | 2 | 129 | 1 | 2.6 | 2 | 1 |\n",
       "| ⋮ | ⋮ | ⋮ | ⋮ | ⋮ | ⋮ | ⋮ | ⋮ | ⋮ | ⋮ | ⋮ |\n",
       "| 57 | 4 | 130 | 131 | 0 | 0 | 115 | 1 | 1.2 | 2 | 3 |\n",
       "| 57 | 2 | 130 | 236 | 0 | 2 | 174 | 0 | 0.0 | 2 | 1 |\n",
       "| 38 | 3 | 138 | 175 | 0 | 0 | 173 | 0 | 0.0 | 1 | 0 |\n",
       "\n"
      ],
      "text/plain": [
       "    Age Chest pain Resting blood pressure Cholesterol Fast blood sugar\n",
       "1   63  1          145                    233         1               \n",
       "2   67  4          160                    286         0               \n",
       "3   67  4          120                    229         0               \n",
       "⋮   ⋮   ⋮          ⋮                      ⋮           ⋮               \n",
       "301 57  4          130                    131         0               \n",
       "302 57  2          130                    236         0               \n",
       "303 38  3          138                    175         0               \n",
       "    Resting electrocardiographic results Maximum heart rate achieved\n",
       "1   2                                    150                        \n",
       "2   2                                    108                        \n",
       "3   2                                    129                        \n",
       "⋮   ⋮                                    ⋮                          \n",
       "301 0                                    115                        \n",
       "302 2                                    174                        \n",
       "303 0                                    173                        \n",
       "    Exercise induced angina ST depression induced by exercise relative to rest\n",
       "1   0                       2.3                                               \n",
       "2   1                       1.5                                               \n",
       "3   1                       2.6                                               \n",
       "⋮   ⋮                       ⋮                                                 \n",
       "301 1                       1.2                                               \n",
       "302 0                       0.0                                               \n",
       "303 0                       0.0                                               \n",
       "    The slope of the peak exercise ST segment\n",
       "1   3                                        \n",
       "2   2                                        \n",
       "3   2                                        \n",
       "⋮   ⋮                                        \n",
       "301 2                                        \n",
       "302 2                                        \n",
       "303 1                                        \n",
       "    Diagnosis of heart disease (angiographic disease status)\n",
       "1   0                                                       \n",
       "2   2                                                       \n",
       "3   1                                                       \n",
       "⋮   ⋮                                                       \n",
       "301 3                                                       \n",
       "302 1                                                       \n",
       "303 0                                                       "
      ]
     },
     "metadata": {},
     "output_type": "display_data"
    }
   ],
   "source": [
    "cleveland <- read_csv(\"data/processed.cleveland.data\", col_names = FALSE) %>%\n",
    "    rename(\"Age\" = X1, \"Sex\" = X2, \"Chest pain\" = X3, \"Resting blood pressure\" = X4,\n",
    "           \"Cholesterol\" = X5, \"Fast blood sugar\" = X6, \"Resting electrocardiographic results\" = X7,\n",
    "           \"Maximum heart rate achieved\" = X8, \"Exercise induced angina\" = X9,\n",
    "           \"ST depression induced by exercise relative to rest\" = X10, \n",
    "           \"The slope of the peak exercise ST segment\" = X11, \n",
    "           \"Number of major vessels colored by flourosopy\" = X12, \"Thalassemia\" = X13,\n",
    "           \"Diagnosis of heart disease (angiographic disease status)\" = X14) %>%\n",
    "    select(-\"Sex\", -\"Number of major vessels colored by flourosopy\", -\"Thalassemia\")\n",
    "cleveland"
   ]
  },
  {
   "cell_type": "markdown",
   "id": "89b01a81-6e93-4399-ac64-60a91a063910",
   "metadata": {},
   "source": [
    "## Methods:\n",
    "*Explain how you will conduct either your data analysis and which variables/columns you will use. Note - you do not need to use all variables/columns that exist in the raw data set. In fact, that's often not a good idea. For each variable think: is this a useful variable for prediction?*\n",
    "\n",
    "- High cholesterol and blood pressure are the main contributing factors of heart disease. For this reason we will be using these factors as our main variables for prediction. The reason we chose to use only two factors is because we wanted to be able to make a good visualization\n",
    "\n",
    "*Describe at least one way that you will visualize the results*\n",
    "\n",
    "- We will use the argument ggplot to plot out the various different data points and color them to a legend that represents each data point.\n",
    "- We can use a histogram to represent a heart disease patient’s data for each column to see if your data can match.\n"
   ]
  },
  {
   "cell_type": "markdown",
   "id": "123d70e5-86d7-4c38-aefc-efb44f83eb5b",
   "metadata": {},
   "source": [
    "## Expected outcomes and significance:\n",
    "\n",
    "*What do you expect to find?*\n",
    "- Whether our new patient has heart disease\n",
    "- The tendency of patients with heart disease to possess which characteristics\n",
    "\n",
    "*What impact could such findings have?*\n",
    "- We can use this to help those who may or may not suspect they have heart disease to determine the likelihood of them getting heart disease. \n",
    "- We can also determine a “safe zone” for various categories and see if a patient has any specific categories that is endangering them (i.e. having a cholesterol content close to a heart disease patient’s cholesterol level)\n",
    "\n",
    "*What future questions could this lead to?*\n",
    "- What other illnesses can we predict with just statistics?\n",
    "- Could the need for diagnosis by a doctor eventually become redundant, as computers and statistics can do a better and more accurate job?\n"
   ]
  },
  {
   "cell_type": "markdown",
   "id": "cbca2ed2-f213-4b7e-b633-efd917b834ca",
   "metadata": {},
   "source": [
    "## Rerences:\n",
    "\n",
    "https://www.sciencedirect.com/science/article/pii/S1071916421002049#:~:text=Misdiagnosis%20of%20heart%20failure%20ranges,68%25%20depending%20on%20the%20setting.&text=Patients%20with%20ischemic%20heart%20disease,at%20risk%20of%20HF%20misdiagnosis.&text=Patients%20with%20lung%20disease%2C%20stroke,from%20screening%20for%20heart%20failure.\n",
    "\n",
    "https://www.cdc.gov/chronicdisease/resources/publications/factsheets/heart-disease-stroke.htm"
   ]
  },
  {
   "cell_type": "code",
   "execution_count": null,
   "id": "20437b55-7954-4ec7-8bb4-559b4576079e",
   "metadata": {},
   "outputs": [],
   "source": []
  }
 ],
 "metadata": {
  "kernelspec": {
   "display_name": "R",
   "language": "R",
   "name": "ir"
  },
  "language_info": {
   "codemirror_mode": "r",
   "file_extension": ".r",
   "mimetype": "text/x-r-source",
   "name": "R",
   "pygments_lexer": "r",
   "version": "4.1.3"
  }
 },
 "nbformat": 4,
 "nbformat_minor": 5
}
