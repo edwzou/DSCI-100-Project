{
 "cells": [
  {
   "cell_type": "markdown",
   "id": "eeb251a0-e61d-40ed-a7ac-810f47e33fef",
   "metadata": {},
   "source": [
    "# Can Data Find Heart Disease Better Than Doctors?\n",
    "\n",
    "By: Edward Zou, Hui Lin Shan, Reimi Shishido, and Emma Lo"
   ]
  },
  {
   "cell_type": "code",
   "execution_count": 5,
   "id": "1ae538a7-7a47-43df-a5cd-3b8f50404254",
   "metadata": {},
   "outputs": [
    {
     "name": "stderr",
     "output_type": "stream",
     "text": [
      "Warning message in file(filename, \"r\", encoding = encoding):\n",
      "“cannot open file 'tests.R': No such file or directory”\n"
     ]
    },
    {
     "ename": "ERROR",
     "evalue": "Error in file(filename, \"r\", encoding = encoding): cannot open the connection\n",
     "output_type": "error",
     "traceback": [
      "Error in file(filename, \"r\", encoding = encoding): cannot open the connection\nTraceback:\n",
      "1. source(\"tests.R\")",
      "2. file(filename, \"r\", encoding = encoding)"
     ]
    }
   ],
   "source": [
    "library(tidyverse)\n",
    "library(testthat)\n",
    "library(digest)\n",
    "library(repr)\n",
    "library(tidymodels)\n",
    "options(repr.matrix.max.rows = 6)\n",
    "source(\"tests.R\")\n",
    "source('cleanup.R')"
   ]
  },
  {
   "cell_type": "code",
   "execution_count": 4,
   "id": "fc4bb55a-2a9e-4ee1-bccb-aa53c0cb61ca",
   "metadata": {},
   "outputs": [
    {
     "name": "stderr",
     "output_type": "stream",
     "text": [
      "\u001b[1mRows: \u001b[22m\u001b[34m303\u001b[39m \u001b[1mColumns: \u001b[22m\u001b[34m14\u001b[39m\n",
      "\u001b[36m──\u001b[39m \u001b[1mColumn specification\u001b[22m \u001b[36m────────────────────────────────────────────────────────\u001b[39m\n",
      "\u001b[1mDelimiter:\u001b[22m \",\"\n",
      "\u001b[31mchr\u001b[39m  (2): X12, X13\n",
      "\u001b[32mdbl\u001b[39m (12): X1, X2, X3, X4, X5, X6, X7, X8, X9, X10, X11, X14\n",
      "\n",
      "\u001b[36mℹ\u001b[39m Use `spec()` to retrieve the full column specification for this data.\n",
      "\u001b[36mℹ\u001b[39m Specify the column types or set `show_col_types = FALSE` to quiet this message.\n"
     ]
    },
    {
     "data": {
      "text/html": [
       "<table class=\"dataframe\">\n",
       "<caption>A tibble: 303 × 11</caption>\n",
       "<thead>\n",
       "\t<tr><th scope=col>Age</th><th scope=col>Chest pain</th><th scope=col>Resting blood pressure</th><th scope=col>Cholesterol</th><th scope=col>Fast blood sugar</th><th scope=col>Resting electrocardiographic results</th><th scope=col>Maximum heart rate achieved</th><th scope=col>Exercise induced angina</th><th scope=col>ST depression induced by exercise relative to rest</th><th scope=col>The slope of the peak exercise ST segment</th><th scope=col>Diagnosis of heart disease (angiographic disease status)</th></tr>\n",
       "\t<tr><th scope=col>&lt;dbl&gt;</th><th scope=col>&lt;dbl&gt;</th><th scope=col>&lt;dbl&gt;</th><th scope=col>&lt;dbl&gt;</th><th scope=col>&lt;dbl&gt;</th><th scope=col>&lt;dbl&gt;</th><th scope=col>&lt;dbl&gt;</th><th scope=col>&lt;dbl&gt;</th><th scope=col>&lt;dbl&gt;</th><th scope=col>&lt;dbl&gt;</th><th scope=col>&lt;dbl&gt;</th></tr>\n",
       "</thead>\n",
       "<tbody>\n",
       "\t<tr><td>63</td><td>1</td><td>145</td><td>233</td><td>1</td><td>2</td><td>150</td><td>0</td><td>2.3</td><td>3</td><td>0</td></tr>\n",
       "\t<tr><td>67</td><td>4</td><td>160</td><td>286</td><td>0</td><td>2</td><td>108</td><td>1</td><td>1.5</td><td>2</td><td>2</td></tr>\n",
       "\t<tr><td>67</td><td>4</td><td>120</td><td>229</td><td>0</td><td>2</td><td>129</td><td>1</td><td>2.6</td><td>2</td><td>1</td></tr>\n",
       "\t<tr><td>⋮</td><td>⋮</td><td>⋮</td><td>⋮</td><td>⋮</td><td>⋮</td><td>⋮</td><td>⋮</td><td>⋮</td><td>⋮</td><td>⋮</td></tr>\n",
       "\t<tr><td>57</td><td>4</td><td>130</td><td>131</td><td>0</td><td>0</td><td>115</td><td>1</td><td>1.2</td><td>2</td><td>3</td></tr>\n",
       "\t<tr><td>57</td><td>2</td><td>130</td><td>236</td><td>0</td><td>2</td><td>174</td><td>0</td><td>0.0</td><td>2</td><td>1</td></tr>\n",
       "\t<tr><td>38</td><td>3</td><td>138</td><td>175</td><td>0</td><td>0</td><td>173</td><td>0</td><td>0.0</td><td>1</td><td>0</td></tr>\n",
       "</tbody>\n",
       "</table>\n"
      ],
      "text/latex": [
       "A tibble: 303 × 11\n",
       "\\begin{tabular}{lllllllllll}\n",
       " Age & Chest pain & Resting blood pressure & Cholesterol & Fast blood sugar & Resting electrocardiographic results & Maximum heart rate achieved & Exercise induced angina & ST depression induced by exercise relative to rest & The slope of the peak exercise ST segment & Diagnosis of heart disease (angiographic disease status)\\\\\n",
       " <dbl> & <dbl> & <dbl> & <dbl> & <dbl> & <dbl> & <dbl> & <dbl> & <dbl> & <dbl> & <dbl>\\\\\n",
       "\\hline\n",
       "\t 63 & 1 & 145 & 233 & 1 & 2 & 150 & 0 & 2.3 & 3 & 0\\\\\n",
       "\t 67 & 4 & 160 & 286 & 0 & 2 & 108 & 1 & 1.5 & 2 & 2\\\\\n",
       "\t 67 & 4 & 120 & 229 & 0 & 2 & 129 & 1 & 2.6 & 2 & 1\\\\\n",
       "\t ⋮ & ⋮ & ⋮ & ⋮ & ⋮ & ⋮ & ⋮ & ⋮ & ⋮ & ⋮ & ⋮\\\\\n",
       "\t 57 & 4 & 130 & 131 & 0 & 0 & 115 & 1 & 1.2 & 2 & 3\\\\\n",
       "\t 57 & 2 & 130 & 236 & 0 & 2 & 174 & 0 & 0.0 & 2 & 1\\\\\n",
       "\t 38 & 3 & 138 & 175 & 0 & 0 & 173 & 0 & 0.0 & 1 & 0\\\\\n",
       "\\end{tabular}\n"
      ],
      "text/markdown": [
       "\n",
       "A tibble: 303 × 11\n",
       "\n",
       "| Age &lt;dbl&gt; | Chest pain &lt;dbl&gt; | Resting blood pressure &lt;dbl&gt; | Cholesterol &lt;dbl&gt; | Fast blood sugar &lt;dbl&gt; | Resting electrocardiographic results &lt;dbl&gt; | Maximum heart rate achieved &lt;dbl&gt; | Exercise induced angina &lt;dbl&gt; | ST depression induced by exercise relative to rest &lt;dbl&gt; | The slope of the peak exercise ST segment &lt;dbl&gt; | Diagnosis of heart disease (angiographic disease status) &lt;dbl&gt; |\n",
       "|---|---|---|---|---|---|---|---|---|---|---|\n",
       "| 63 | 1 | 145 | 233 | 1 | 2 | 150 | 0 | 2.3 | 3 | 0 |\n",
       "| 67 | 4 | 160 | 286 | 0 | 2 | 108 | 1 | 1.5 | 2 | 2 |\n",
       "| 67 | 4 | 120 | 229 | 0 | 2 | 129 | 1 | 2.6 | 2 | 1 |\n",
       "| ⋮ | ⋮ | ⋮ | ⋮ | ⋮ | ⋮ | ⋮ | ⋮ | ⋮ | ⋮ | ⋮ |\n",
       "| 57 | 4 | 130 | 131 | 0 | 0 | 115 | 1 | 1.2 | 2 | 3 |\n",
       "| 57 | 2 | 130 | 236 | 0 | 2 | 174 | 0 | 0.0 | 2 | 1 |\n",
       "| 38 | 3 | 138 | 175 | 0 | 0 | 173 | 0 | 0.0 | 1 | 0 |\n",
       "\n"
      ],
      "text/plain": [
       "    Age Chest pain Resting blood pressure Cholesterol Fast blood sugar\n",
       "1   63  1          145                    233         1               \n",
       "2   67  4          160                    286         0               \n",
       "3   67  4          120                    229         0               \n",
       "⋮   ⋮   ⋮          ⋮                      ⋮           ⋮               \n",
       "301 57  4          130                    131         0               \n",
       "302 57  2          130                    236         0               \n",
       "303 38  3          138                    175         0               \n",
       "    Resting electrocardiographic results Maximum heart rate achieved\n",
       "1   2                                    150                        \n",
       "2   2                                    108                        \n",
       "3   2                                    129                        \n",
       "⋮   ⋮                                    ⋮                          \n",
       "301 0                                    115                        \n",
       "302 2                                    174                        \n",
       "303 0                                    173                        \n",
       "    Exercise induced angina ST depression induced by exercise relative to rest\n",
       "1   0                       2.3                                               \n",
       "2   1                       1.5                                               \n",
       "3   1                       2.6                                               \n",
       "⋮   ⋮                       ⋮                                                 \n",
       "301 1                       1.2                                               \n",
       "302 0                       0.0                                               \n",
       "303 0                       0.0                                               \n",
       "    The slope of the peak exercise ST segment\n",
       "1   3                                        \n",
       "2   2                                        \n",
       "3   2                                        \n",
       "⋮   ⋮                                        \n",
       "301 2                                        \n",
       "302 2                                        \n",
       "303 1                                        \n",
       "    Diagnosis of heart disease (angiographic disease status)\n",
       "1   0                                                       \n",
       "2   2                                                       \n",
       "3   1                                                       \n",
       "⋮   ⋮                                                       \n",
       "301 3                                                       \n",
       "302 1                                                       \n",
       "303 0                                                       "
      ]
     },
     "metadata": {},
     "output_type": "display_data"
    }
   ],
   "source": [
    "cleveland <- read_csv(\"data/processed.cleveland.data\", col_names = FALSE) %>%\n",
    "    rename(\"Age\" = X1, \"Sex\" = X2, \"Chest pain\" = X3, \"Resting blood pressure\" = X4,\n",
    "           \"Cholesterol\" = X5, \"Fast blood sugar\" = X6, \"Resting electrocardiographic results\" = X7,\n",
    "           \"Maximum heart rate achieved\" = X8, \"Exercise induced angina\" = X9,\n",
    "           \"ST depression induced by exercise relative to rest\" = X10, \n",
    "           \"The slope of the peak exercise ST segment\" = X11, \n",
    "           \"Number of major vessels colored by flourosopy\" = X12, \"Thalassemia\" = X13,\n",
    "           \"Diagnosis of heart disease (angiographic disease status)\" = X14) %>%\n",
    "    select(-\"Sex\", -\"Number of major vessels colored by flourosopy\", -\"Thalassemia\")\n",
    "cleveland"
   ]
  },
  {
   "cell_type": "code",
   "execution_count": null,
   "id": "d400ef79-226d-4c2e-b671-de0cdb211be2",
   "metadata": {},
   "outputs": [],
   "source": []
  }
 ],
 "metadata": {
  "kernelspec": {
   "display_name": "R",
   "language": "R",
   "name": "ir"
  },
  "language_info": {
   "codemirror_mode": "r",
   "file_extension": ".r",
   "mimetype": "text/x-r-source",
   "name": "R",
   "pygments_lexer": "r",
   "version": "4.1.3"
  }
 },
 "nbformat": 4,
 "nbformat_minor": 5
}
