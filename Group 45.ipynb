{
 "cells": [
  {
   "cell_type": "markdown",
   "id": "eeb251a0-e61d-40ed-a7ac-810f47e33fef",
   "metadata": {},
   "source": [
    "# Can Data Diagnose Heart Disease Better Than Doctors?\n",
    "\n",
    "By: Edward Zou, Hui Lin Shan, Reimi Shishido, and Emma Lo (Group 45)"
   ]
  },
  {
   "cell_type": "markdown",
   "id": "f3ce71d1-60b9-422a-904d-3ffd79bb2cbf",
   "metadata": {},
   "source": [
    "## Introduction:\n",
    "\n",
    "*Provide some relevant background information on the topic so that someone unfamiliar with it will be prepared to understand the rest of your proposal*\n",
    "\n",
    "- Heart disease refers to several cardiovascular conditions that, due to a narrowing of major arteries causing restricted blood flow, can fatally affect the structure and function of the heart, and is the second leading cause of death in Canada. Diagnosing heart disease is a rigorous and time consuming process, and misdiagnoses is still a relevant concern with about 16%-68% of cases being reported as misdiagnosed, depending on the setting. Therefore, finding an easier and more reliable way of diagnosis will be very beneficial to the health of patients as well as doctors attempting to diagnose heart disease. Our group’s chosen data set tries to tackle the problem of identifying an individual who potentially has heart disease by comparing their attributes to patients who have been diagnosed with heart disease, and we want to do so with more accuracy than previous cases (ie. less than  16% error, or accurately predict more than 84% of the time). \n",
    "\n",
    "\n",
    "*Clearly state the question you will try to answer with your project*\n",
    "\n",
    "- Can we use a heart disease dataset to create a model that can reliably and correctly predict whether a new patient has heart disease more than 84% of the time? \n",
    "\n",
    "\n",
    "*Identify and describe the dataset that will be used to answer the question*\n",
    "\n",
    "- We will be using the heart disease dataset provided on Canvas (processed Cleveland version) of the UCI Machine Learning Respository. This specific dataset consists of 14 attributes (taken from a larger collection of 76 attributes) that aid in predicting whether or not an individual has heart disease. There were four datasets from four different institutions (Cleveland, Hungary, Switzerland, and VA Long Beach) provided, but we chose to use the Cleveland data because the website has stated that the Cleveland data set was the only data set that has been used by ML researchers, and we believe that this means it can potentially be the best data set with the most helpful observations and so will help us ensure our model is more effetcive. We chose to use the processed dataset because after comparing the columns that were removed from \n"
   ]
  },
  {
   "cell_type": "markdown",
   "id": "66ad4818-802f-426d-b5f4-eae148b992d4",
   "metadata": {},
   "source": [
    "## Preliminary exploratory data analysis:\n",
    "*Demonstrate that the dataset can be read from the web into R*\n",
    "\n",
    "- The current dataset is in a .data file. We can either use read.table to read the file or convert the dataset to .csv file and use read_csv\n",
    "\n",
    "*Clean and wrangle your data into a tidy format*\n",
    "\n",
    "- Break it down into different sexes\n",
    "\n",
    "*Using only training data, summarize the data in at least one table (this is exploratory data analysis). An example of a useful table could be one that reports the number of observations in each class, the means of the predictor variables you plan to use in your analysis and how many rows have missing data*\n",
    "\n",
    "*Using only training data, visualize the data with at least one plot relevant to the analysis you plan to do (this is exploratory data analysis). An example of a useful visualization could be one that compares the distributions of each of the predictor variables you plan to use in your analysis*\n"
   ]
  },
  {
   "cell_type": "code",
   "execution_count": 1,
   "id": "1ae538a7-7a47-43df-a5cd-3b8f50404254",
   "metadata": {},
   "outputs": [
    {
     "name": "stderr",
     "output_type": "stream",
     "text": [
      "── \u001b[1mAttaching packages\u001b[22m ─────────────────────────────────────── tidyverse 1.3.1 ──\n",
      "\n",
      "\u001b[32m✔\u001b[39m \u001b[34mggplot2\u001b[39m 3.3.6     \u001b[32m✔\u001b[39m \u001b[34mpurrr  \u001b[39m 0.3.4\n",
      "\u001b[32m✔\u001b[39m \u001b[34mtibble \u001b[39m 3.1.7     \u001b[32m✔\u001b[39m \u001b[34mdplyr  \u001b[39m 1.0.9\n",
      "\u001b[32m✔\u001b[39m \u001b[34mtidyr  \u001b[39m 1.2.0     \u001b[32m✔\u001b[39m \u001b[34mstringr\u001b[39m 1.4.0\n",
      "\u001b[32m✔\u001b[39m \u001b[34mreadr  \u001b[39m 2.1.2     \u001b[32m✔\u001b[39m \u001b[34mforcats\u001b[39m 0.5.1\n",
      "\n",
      "── \u001b[1mConflicts\u001b[22m ────────────────────────────────────────── tidyverse_conflicts() ──\n",
      "\u001b[31m✖\u001b[39m \u001b[34mdplyr\u001b[39m::\u001b[32mfilter()\u001b[39m masks \u001b[34mstats\u001b[39m::filter()\n",
      "\u001b[31m✖\u001b[39m \u001b[34mdplyr\u001b[39m::\u001b[32mlag()\u001b[39m    masks \u001b[34mstats\u001b[39m::lag()\n",
      "\n",
      "\n",
      "Attaching package: ‘testthat’\n",
      "\n",
      "\n",
      "The following object is masked from ‘package:dplyr’:\n",
      "\n",
      "    matches\n",
      "\n",
      "\n",
      "The following object is masked from ‘package:purrr’:\n",
      "\n",
      "    is_null\n",
      "\n",
      "\n",
      "The following objects are masked from ‘package:readr’:\n",
      "\n",
      "    edition_get, local_edition\n",
      "\n",
      "\n",
      "The following object is masked from ‘package:tidyr’:\n",
      "\n",
      "    matches\n",
      "\n",
      "\n",
      "── \u001b[1mAttaching packages\u001b[22m ────────────────────────────────────── tidymodels 1.0.0 ──\n",
      "\n",
      "\u001b[32m✔\u001b[39m \u001b[34mbroom       \u001b[39m 1.0.0     \u001b[32m✔\u001b[39m \u001b[34mrsample     \u001b[39m 1.0.0\n",
      "\u001b[32m✔\u001b[39m \u001b[34mdials       \u001b[39m 1.0.0     \u001b[32m✔\u001b[39m \u001b[34mtune        \u001b[39m 1.0.0\n",
      "\u001b[32m✔\u001b[39m \u001b[34minfer       \u001b[39m 1.0.2     \u001b[32m✔\u001b[39m \u001b[34mworkflows   \u001b[39m 1.0.0\n",
      "\u001b[32m✔\u001b[39m \u001b[34mmodeldata   \u001b[39m 1.0.0     \u001b[32m✔\u001b[39m \u001b[34mworkflowsets\u001b[39m 1.0.0\n",
      "\u001b[32m✔\u001b[39m \u001b[34mparsnip     \u001b[39m 1.0.0     \u001b[32m✔\u001b[39m \u001b[34myardstick   \u001b[39m 1.0.0\n",
      "\u001b[32m✔\u001b[39m \u001b[34mrecipes     \u001b[39m 1.0.1     \n",
      "\n",
      "── \u001b[1mConflicts\u001b[22m ───────────────────────────────────────── tidymodels_conflicts() ──\n",
      "\u001b[31m✖\u001b[39m \u001b[34mscales\u001b[39m::\u001b[32mdiscard()\u001b[39m   masks \u001b[34mpurrr\u001b[39m::discard()\n",
      "\u001b[31m✖\u001b[39m \u001b[34mdplyr\u001b[39m::\u001b[32mfilter()\u001b[39m     masks \u001b[34mstats\u001b[39m::filter()\n",
      "\u001b[31m✖\u001b[39m \u001b[34mrecipes\u001b[39m::\u001b[32mfixed()\u001b[39m    masks \u001b[34mstringr\u001b[39m::fixed()\n",
      "\u001b[31m✖\u001b[39m \u001b[34mtestthat\u001b[39m::\u001b[32mis_null()\u001b[39m masks \u001b[34mpurrr\u001b[39m::is_null()\n",
      "\u001b[31m✖\u001b[39m \u001b[34mdplyr\u001b[39m::\u001b[32mlag()\u001b[39m        masks \u001b[34mstats\u001b[39m::lag()\n",
      "\u001b[31m✖\u001b[39m \u001b[34mrsample\u001b[39m::\u001b[32mmatches()\u001b[39m  masks \u001b[34mtestthat\u001b[39m::matches(), \u001b[34mdplyr\u001b[39m::matches(), \u001b[34mtidyr\u001b[39m::matches()\n",
      "\u001b[31m✖\u001b[39m \u001b[34myardstick\u001b[39m::\u001b[32mspec()\u001b[39m   masks \u001b[34mreadr\u001b[39m::spec()\n",
      "\u001b[31m✖\u001b[39m \u001b[34mrecipes\u001b[39m::\u001b[32mstep()\u001b[39m     masks \u001b[34mstats\u001b[39m::step()\n",
      "\u001b[34m•\u001b[39m Use \u001b[32mtidymodels_prefer()\u001b[39m to resolve common conflicts.\n",
      "\n"
     ]
    }
   ],
   "source": [
    "library(tidyverse)\n",
    "library(testthat)\n",
    "library(digest)\n",
    "library(repr)\n",
    "library(tidymodels)\n",
    "options(repr.matrix.max.rows = 6)"
   ]
  },
  {
   "cell_type": "code",
   "execution_count": 2,
   "id": "fc4bb55a-2a9e-4ee1-bccb-aa53c0cb61ca",
   "metadata": {},
   "outputs": [
    {
     "name": "stderr",
     "output_type": "stream",
     "text": [
      "\u001b[1mRows: \u001b[22m\u001b[34m303\u001b[39m \u001b[1mColumns: \u001b[22m\u001b[34m14\u001b[39m\n",
      "\u001b[36m──\u001b[39m \u001b[1mColumn specification\u001b[22m \u001b[36m────────────────────────────────────────────────────────\u001b[39m\n",
      "\u001b[1mDelimiter:\u001b[22m \",\"\n",
      "\u001b[31mchr\u001b[39m  (2): X12, X13\n",
      "\u001b[32mdbl\u001b[39m (12): X1, X2, X3, X4, X5, X6, X7, X8, X9, X10, X11, X14\n",
      "\n",
      "\u001b[36mℹ\u001b[39m Use `spec()` to retrieve the full column specification for this data.\n",
      "\u001b[36mℹ\u001b[39m Specify the column types or set `show_col_types = FALSE` to quiet this message.\n"
     ]
    },
    {
     "data": {
      "text/html": [
       "<table class=\"dataframe\">\n",
       "<caption>A tibble: 303 × 4</caption>\n",
       "<thead>\n",
       "\t<tr><th scope=col>sex</th><th scope=col>cholesterol</th><th scope=col>resting_blood_pressure</th><th scope=col>diagnosis_of_heart_disease</th></tr>\n",
       "\t<tr><th scope=col>&lt;dbl&gt;</th><th scope=col>&lt;dbl&gt;</th><th scope=col>&lt;dbl&gt;</th><th scope=col>&lt;fct&gt;</th></tr>\n",
       "</thead>\n",
       "<tbody>\n",
       "\t<tr><td>1</td><td>233</td><td>145</td><td>No </td></tr>\n",
       "\t<tr><td>1</td><td>286</td><td>160</td><td>Yes</td></tr>\n",
       "\t<tr><td>1</td><td>229</td><td>120</td><td>Yes</td></tr>\n",
       "\t<tr><td>⋮</td><td>⋮</td><td>⋮</td><td>⋮</td></tr>\n",
       "\t<tr><td>1</td><td>131</td><td>130</td><td>Yes</td></tr>\n",
       "\t<tr><td>0</td><td>236</td><td>130</td><td>Yes</td></tr>\n",
       "\t<tr><td>1</td><td>175</td><td>138</td><td>No </td></tr>\n",
       "</tbody>\n",
       "</table>\n"
      ],
      "text/latex": [
       "A tibble: 303 × 4\n",
       "\\begin{tabular}{llll}\n",
       " sex & cholesterol & resting\\_blood\\_pressure & diagnosis\\_of\\_heart\\_disease\\\\\n",
       " <dbl> & <dbl> & <dbl> & <fct>\\\\\n",
       "\\hline\n",
       "\t 1 & 233 & 145 & No \\\\\n",
       "\t 1 & 286 & 160 & Yes\\\\\n",
       "\t 1 & 229 & 120 & Yes\\\\\n",
       "\t ⋮ & ⋮ & ⋮ & ⋮\\\\\n",
       "\t 1 & 131 & 130 & Yes\\\\\n",
       "\t 0 & 236 & 130 & Yes\\\\\n",
       "\t 1 & 175 & 138 & No \\\\\n",
       "\\end{tabular}\n"
      ],
      "text/markdown": [
       "\n",
       "A tibble: 303 × 4\n",
       "\n",
       "| sex &lt;dbl&gt; | cholesterol &lt;dbl&gt; | resting_blood_pressure &lt;dbl&gt; | diagnosis_of_heart_disease &lt;fct&gt; |\n",
       "|---|---|---|---|\n",
       "| 1 | 233 | 145 | No  |\n",
       "| 1 | 286 | 160 | Yes |\n",
       "| 1 | 229 | 120 | Yes |\n",
       "| ⋮ | ⋮ | ⋮ | ⋮ |\n",
       "| 1 | 131 | 130 | Yes |\n",
       "| 0 | 236 | 130 | Yes |\n",
       "| 1 | 175 | 138 | No  |\n",
       "\n"
      ],
      "text/plain": [
       "    sex cholesterol resting_blood_pressure diagnosis_of_heart_disease\n",
       "1   1   233         145                    No                        \n",
       "2   1   286         160                    Yes                       \n",
       "3   1   229         120                    Yes                       \n",
       "⋮   ⋮   ⋮           ⋮                      ⋮                         \n",
       "301 1   131         130                    Yes                       \n",
       "302 0   236         130                    Yes                       \n",
       "303 1   175         138                    No                        "
      ]
     },
     "metadata": {},
     "output_type": "display_data"
    }
   ],
   "source": [
    "cleveland <- read_csv(url(\"https://archive.ics.uci.edu/ml/machine-learning-databases/heart-disease/processed.cleveland.data\"), col_names = FALSE) %>%\n",
    "    rename(age = X1, sex = X2, chest_pain = X3, resting_blood_pressure = X4,\n",
    "           cholesterol = X5, fast_blood_sugar = X6, resting_electrocardiographic_results = X7,\n",
    "           maximum_heart_rate_achieved = X8, exercise_induced_angina = X9,\n",
    "           ST_depression_induced_by_exercise_relative_to_rest = X10, \n",
    "           the_slope_of_the_peak_exercise_ST_segment = X11, \n",
    "           number_of_major_vessels_colored_by_flourosopy = X12, thalassemia = X13,\n",
    "           diagnosis_of_heart_disease = X14) %>%\n",
    "    select(sex, cholesterol, resting_blood_pressure, diagnosis_of_heart_disease) %>%\n",
    "    mutate(diagnosis_of_heart_disease = as_factor(diagnosis_of_heart_disease),\n",
    "                diagnosis_of_heart_disease = recode(diagnosis_of_heart_disease, \n",
    "                                                    \"0\" = \"No\", \n",
    "                                                    \"1\" = \"Yes\",\n",
    "                                                    \"2\" = \"Yes\",\n",
    "                                                    \"3\" = \"Yes\",\n",
    "                                                    \"4\" = \"Yes\"))\n",
    "cleveland"
   ]
  },
  {
   "cell_type": "code",
   "execution_count": 3,
   "id": "ff2cec23-5aad-4e88-bc8b-47d1ab67a3a2",
   "metadata": {},
   "outputs": [],
   "source": [
    "male_data <- cleveland %>%\n",
    "        filter(sex == 1)\n",
    "\n",
    "female_data <- cleveland %>%\n",
    "        filter(sex == 0)\n",
    "\n",
    "male_count <- male_data %>%\n",
    "        summarize(n = n())\n",
    "\n",
    "female_count <- female_data %>%\n",
    "        summarize(n = n())\n",
    "\n",
    "cholesterol_average_male <- male_data %>%\n",
    "        summarize(cholesterol = mean(cholesterol))\n",
    "\n",
    "cholesterol_average_female <- female_data %>%\n",
    "        summarize(cholesterol = mean(cholesterol))\n",
    "\n",
    "\n",
    "resting_blood_pressure_average_male <- male_data %>%\n",
    "        summarize(resting_blood_pressure = mean(resting_blood_pressure))\n",
    "\n",
    "resting_blood_pressure_average_female <- female_data %>%\n",
    "        summarize(resting_blood_pressure = mean(resting_blood_pressure))\n",
    "\n",
    "average_table <- data.frame(X1 = cholesterol_average_male,\n",
    "                            X2 = cholesterol_average_female,\n",
    "                            X3 = resting_blood_pressure_average_male,\n",
    "                            X4 = resting_blood_pressure_average_female) %>%\n",
    "        rename(male_cholesterol_average = cholesterol, female_cholesterol_average = cholesterol.1,\n",
    "               male_resting_blood_pressure_average = resting_blood_pressure,\n",
    "               female_resting_blood_pressure_average = resting_blood_pressure.1,)\n",
    "\n",
    "#male_data\n",
    "#female_data\n",
    "#male_count\n",
    "#female_count\n",
    "#cholesterol_average_male\n",
    "#cholesterol_average_female\n",
    "#resting_blood_pressure_average_male\n",
    "#resting_blood_pressure_average_female\n",
    "#average_table"
   ]
  },
  {
   "cell_type": "markdown",
   "id": "10cdbc9d-0684-493a-b56c-6061516616e4",
   "metadata": {},
   "source": [
    "Write here about what the chrolesterol average and resting blood pressure average mean."
   ]
  },
  {
   "cell_type": "code",
   "execution_count": 4,
   "id": "6cd53e9b-9bfe-4e4b-bd22-c503f0957be7",
   "metadata": {},
   "outputs": [],
   "source": [
    "male_split <- initial_split(male_data, prop = 0.70, strata = diagnosis_of_heart_disease)\n",
    "male_train <- training(male_split)   \n",
    "male_test <- testing(male_split)\n",
    "\n",
    "female_split <- initial_split(female_data, prop = 0.70, strata = diagnosis_of_heart_disease)\n",
    "female_train <- training(female_split)   \n",
    "female_test <- testing(female_split)\n",
    "\n",
    "options(repr.plot.width = 20, repr.plot.height = 15)\n",
    "\n",
    "male_train_plot <- ggplot(data = male_train, aes(x = cholesterol, y = resting_blood_pressure)) +\n",
    "    geom_point(aes(colour = diagnosis_of_heart_disease)) +\n",
    "    labs(colour = \"Does this patient have heart disease?\") +\n",
    "    ggtitle(\"Male cholesterol level vs resting blood pressure\") +\n",
    "    xlab(\"Cholesterol level (mg/dl)\") + \n",
    "    ylab(\"Resting blood pressure (mm Hg)\") +\n",
    "    theme(text = element_text(size = 20))\n",
    "\n",
    "female_train_plot <- ggplot(data = female_train, aes(x = cholesterol, y = resting_blood_pressure)) +\n",
    "    geom_point(aes(colour = diagnosis_of_heart_disease)) +\n",
    "    labs(colour = \"Does this patient have heart disease?\") +\n",
    "    ggtitle(\"Female cholesterol level vs resting blood pressure\") +\n",
    "    xlab(\"Cholesterol level (mg/dl)\") + \n",
    "    ylab(\"Resting blood pressure (mm Hg)\") +\n",
    "    theme(text = element_text(size = 20))\n",
    "\n",
    "#male_train_plot\n",
    "#female_train_plot"
   ]
  },
  {
   "cell_type": "markdown",
   "id": "89b01a81-6e93-4399-ac64-60a91a063910",
   "metadata": {},
   "source": [
    "## Methods:\n",
    "*Explain how you will conduct either your data analysis and which variables/columns you will use. Note - you do not need to use all variables/columns that exist in the raw data set. In fact, that's often not a good idea. For each variable think: is this a useful variable for prediction?*\n",
    "\n",
    "- High cholesterol and blood pressure are the main contributing factors of heart disease. For this reason we will be using these factors as our main variables for prediction. The reason we chose to use only two factors is because we wanted to be able to make a good visualization\n",
    "\n",
    "*Describe at least one way that you will visualize the results*\n",
    "\n",
    "- We will use the argument ggplot to plot out the various different data points and color them to a legend that represents each data point.\n",
    "- We can use a histogram to represent a heart disease patient’s data for each column to see if your data can match.\n"
   ]
  },
  {
   "cell_type": "markdown",
   "id": "123d70e5-86d7-4c38-aefc-efb44f83eb5b",
   "metadata": {},
   "source": [
    "## Expected outcomes and significance:\n",
    "\n",
    "*What do you expect to find?*\n",
    "- Whether our new patient has heart disease\n",
    "- The tendency of patients with heart disease to possess which characteristics\n",
    "\n",
    "*What impact could such findings have?*\n",
    "- We can use this to help those who may or may not suspect they have heart disease to determine the likelihood of them getting heart disease. \n",
    "- We can also determine a “safe zone” for various categories and see if a patient has any specific categories that is endangering them (i.e. having a cholesterol content close to a heart disease patient’s cholesterol level)\n",
    "\n",
    "*What future questions could this lead to?*\n",
    "- What other illnesses can we predict with just statistics?\n",
    "- Could the need for diagnosis by a doctor eventually become redundant, as computers and statistics can do a better and more accurate job?\n"
   ]
  },
  {
   "cell_type": "markdown",
   "id": "cbca2ed2-f213-4b7e-b633-efd917b834ca",
   "metadata": {},
   "source": [
    "## Rerences:\n",
    "\n",
    "https://www.sciencedirect.com/science/article/pii/S1071916421002049#:~:text=Misdiagnosis%20of%20heart%20failure%20ranges,68%25%20depending%20on%20the%20setting.&text=Patients%20with%20ischemic%20heart%20disease,at%20risk%20of%20HF%20misdiagnosis.&text=Patients%20with%20lung%20disease%2C%20stroke,from%20screening%20for%20heart%20failure.\n",
    "\n",
    "https://www.cdc.gov/chronicdisease/resources/publications/factsheets/heart-disease-stroke.htm"
   ]
  },
  {
   "cell_type": "code",
   "execution_count": null,
   "id": "20437b55-7954-4ec7-8bb4-559b4576079e",
   "metadata": {},
   "outputs": [],
   "source": []
  }
 ],
 "metadata": {
  "kernelspec": {
   "display_name": "R",
   "language": "R",
   "name": "ir"
  },
  "language_info": {
   "codemirror_mode": "r",
   "file_extension": ".r",
   "mimetype": "text/x-r-source",
   "name": "R",
   "pygments_lexer": "r",
   "version": "4.1.3"
  }
 },
 "nbformat": 4,
 "nbformat_minor": 5
}
